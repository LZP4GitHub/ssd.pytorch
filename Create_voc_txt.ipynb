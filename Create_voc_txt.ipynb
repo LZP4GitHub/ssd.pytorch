{
 "cells": [
  {
   "cell_type": "code",
   "execution_count": null,
   "metadata": {},
   "outputs": [],
   "source": [
    "import os\n",
    "import random \n",
    " \n",
    "filepath=r'/home/lzp/data/VOCdevkit/VOC2007/JPEGImages'\n",
    "saveBasePath=r\"/home/lzp/data/VOCdevkit/VOC2007/\"\n",
    " \n",
    "trainval_percent=1\n",
    "train_percent=0.7\n",
    "total_xml = os.listdir(filepath)\n",
    "#a=total_xml[1].split('.jpg')\n",
    "#print(a[0])\n",
    "\n",
    "num=len(total_xml)  \n",
    "print(num)\n",
    "#assert 0\n",
    "list=range(num)  \n",
    "tv=int(num*trainval_percent)  \n",
    "tr=int(tv*train_percent)  \n",
    "trainval= random.sample(list,tv)  \n",
    "train=random.sample(trainval,tr)  \n",
    " \n",
    "print(\"train and val size:\",tv)\n",
    "print(\"train size:\",tr)\n",
    "\n",
    "ftrainval = open(os.path.join(saveBasePath,'ImageSets/trainval.txt'), 'w')  \n",
    "ftrain = open(os.path.join(saveBasePath,'ImageSets/train.txt'), 'w')  \n",
    "fval = open(os.path.join(saveBasePath,'ImageSets/val.txt'), 'w')  \n",
    "\n",
    "\n",
    "for i  in list: \n",
    "    a=total_xml[i].split('.jpg')\n",
    "    name=a[0]+'\\n'  \n",
    "    if i in trainval:  \n",
    "        ftrainval.write(name)  \n",
    "        if i in train:  \n",
    "            ftrain.write(name)  \n",
    "        else:  \n",
    "            fval.write(name)  \n",
    " \n",
    "  \n",
    "ftrainval.close()  \n",
    "ftrain.close()  \n",
    "fval.close()  "
   ]
  }
 ],
 "metadata": {
  "kernelspec": {
   "display_name": "Python 3",
   "language": "python",
   "name": "python3"
  },
  "language_info": {
   "codemirror_mode": {
    "name": "ipython",
    "version": 3
   },
   "file_extension": ".py",
   "mimetype": "text/x-python",
   "name": "python",
   "nbconvert_exporter": "python",
   "pygments_lexer": "ipython3",
   "version": "3.6.2"
  }
 },
 "nbformat": 4,
 "nbformat_minor": 2
}
