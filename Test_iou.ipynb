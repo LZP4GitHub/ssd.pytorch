{
 "cells": [
  {
   "cell_type": "code",
   "execution_count": 12,
   "metadata": {},
   "outputs": [],
   "source": [
    "from skimage import draw,data\n",
    "import matplotlib.pyplot as plt\n",
    "import numpy as np\n",
    "import cv2"
   ]
  },
  {
   "cell_type": "code",
   "execution_count": 21,
   "metadata": {},
   "outputs": [],
   "source": [
    "img = np.zeros((400,400,3),np.uint8)#生成一个空灰度图像"
   ]
  },
  {
   "cell_type": "code",
   "execution_count": 22,
   "metadata": {},
   "outputs": [
    {
     "name": "stdout",
     "output_type": "stream",
     "text": [
      "[367 389 389 367]\n",
      "[78 78 89 89]\n"
     ]
    }
   ],
   "source": [
    "p = np.array([0.917691,0.197127,0.972934,0.197127,0.972934,0.224748,0.917691,0.224748])\n",
    "p = p*400.0\n",
    "Y=np.array([int(p[1]),int(p[3]),int(p[5]),int(p[7]) ])\n",
    "\n",
    "X=np.array([int(p[0]),int(p[2]),int(p[4]),int(p[6]) ])\n",
    "print(X)\n",
    "print(Y)\n",
    "rr, cc=draw.polygon(Y,X)\n",
    "\n",
    "draw.set_color(img,[rr,cc],[255,0,0])\n",
    "\n",
    "q =  np.array([0.208984,0.03125,0.300781,0.0332031,0.300781,0.0703125,0.216797,0.0703125])\n",
    "q = q*400\n",
    "Y=np.array([int(q[1]),int(q[3]),int(q[5]),int(q[7]) ])\n",
    "\n",
    "X=np.array([int(q[0]),int(q[2]),int(q[4]),int(q[6]) ])\n",
    "\n",
    "rr, cc=draw.polygon(Y,X)\n",
    "\n",
    "draw.set_color(img,[rr,cc],[0,255,0])"
   ]
  },
  {
   "cell_type": "code",
   "execution_count": 23,
   "metadata": {},
   "outputs": [
    {
     "data": {
      "image/png": "[encoded data removed]",
      "text/plain": [
       "<matplotlib.figure.Figure at 0x7f92be9ed400>"
      ]
     },
     "metadata": {
      "needs_background": "light"
     },
     "output_type": "display_data"
    }
   ],
   "source": [
    "plt.imshow(img)\n",
    "plt.show()"
   ]
  }
 ],
 "metadata": {
  "kernelspec": {
   "display_name": "Python 3",
   "language": "python",
   "name": "python3"
  },
  "language_info": {
   "codemirror_mode": {
    "name": "ipython",
    "version": 3
   },
   "file_extension": ".py",
   "mimetype": "text/x-python",
   "name": "python",
   "nbconvert_exporter": "python",
   "pygments_lexer": "ipython3",
   "version": "3.6.2"
  }
 },
 "nbformat": 4,
 "nbformat_minor": 2
}
